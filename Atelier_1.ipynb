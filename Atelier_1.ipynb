{
  "cells": [
    {
      "cell_type": "code",
      "execution_count": null,
      "metadata": {
        "id": "yOXewGkPRZuv"
      },
      "outputs": [],
      "source": []
    },
    {
      "cell_type": "markdown",
      "metadata": {
        "id": "xkqKKw18Ri5G"
      },
      "source": [
        "\n",
        "Exercice1:Ecrire une fonction qui renvoie la puissance d’un nombre X^n"
      ]
    },
    {
      "cell_type": "code",
      "execution_count": null,
      "metadata": {
        "id": "FyIAE3K9RqQn"
      },
      "outputs": [],
      "source": [
        "def puis(X,n):\n",
        "    P=1\n",
        "    for i in range(n):\n",
        "        P=P*X \n",
        "    return P\n",
        "X=int(input(\"donner X\"))\n",
        "n=int(input(\"donner n\"))\n",
        "print(puis(X,n))"
      ]
    },
    {
      "cell_type": "markdown",
      "metadata": {
        "id": "rhpGyQOySRsL"
      },
      "source": [
        "Exercice2: Ecrire une fonction python qui calcul la factorielle d’un nombre donné"
      ]
    },
    {
      "cell_type": "code",
      "execution_count": null,
      "metadata": {
        "id": "E_yDFiUhSaIB"
      },
      "outputs": [],
      "source": [
        "def factoriel(n):\n",
        "    fact=1\n",
        "    for i in range(1,n+1):\n",
        "        fact=fact*i\n",
        "    return fact\n",
        "n=int(input(\"donner n\"))\n",
        "print(factoriel(n))"
      ]
    },
    {
      "cell_type": "markdown",
      "metadata": {
        "id": "5BIae6N5SgZM"
      },
      "source": [
        "Exercice3:Ecrire une fonction en Python pour trouver la somme des séries 1! / 1 + 2! / 2 + 3! / 3 + 4! / 4 + 5! / 5 en utilisant la fonction."
      ]
    },
    {
      "cell_type": "code",
      "execution_count": null,
      "metadata": {
        "id": "lHVuJTUJT7QP"
      },
      "outputs": [],
      "source": [
        "def fact(n):\n",
        "    fact=1\n",
        "    for i in range(1,n+1):\n",
        "        fact=fact*i\n",
        "    return fact\n",
        "def sum(n):\n",
        "    s=0\n",
        "    for i in range(1,n+1):\n",
        "         s=s+fact(i)/i\n",
        "    return s\n",
        "#n=int(input(\"donner la valeur de n : \"))\n",
        "n=5\n",
        "print(sum(n))"
      ]
    },
    {
      "cell_type": "markdown",
      "metadata": {
        "id": "I5tH_iv_UEzk"
      },
      "source": [
        "Exercice4:Ecrire une fonction en Python pour convertir le nombre décimal en nombre binaire."
      ]
    },
    {
      "cell_type": "code",
      "execution_count": null,
      "metadata": {
        "id": "aB5ZIt0WUOIx"
      },
      "outputs": [],
      "source": [
        "n=int(input(\"donner un nombre : \"))\n",
        "binary=0\n",
        "ordr=0\n",
        "while  (n!=0):\n",
        "\n",
        "    reste= n % 2\n",
        "    p=10**ordr\n",
        "    binary=binary+reste*p\n",
        "    ordr=ordr+1\n",
        "    n=n//2\n",
        "print(binary)"
      ]
    },
    {
      "cell_type": "markdown",
      "metadata": {
        "id": "F5UM2LneUW6W"
      },
      "source": [
        "Exercice5:Ecrire une fonction en Python pour calculer la somme des nombres de 1 à n."
      ]
    },
    {
      "cell_type": "code",
      "execution_count": null,
      "metadata": {
        "id": "FCX8EI3YUeUx"
      },
      "outputs": [],
      "source": [
        "def sum(n):\n",
        "    s=0\n",
        "    for i in range(n):\n",
        "        s=s+i\n",
        "    return s\n",
        "n=int(input(\"donner n: \"))\n",
        "print(sum(n))"
      ]
    },
    {
      "cell_type": "markdown",
      "metadata": {
        "id": "UMytliXNUxSC"
      },
      "source": [
        "Exercice6:Ecrire une fonction en Python pour compter les chiffres d'un nombre donné."
      ]
    },
    {
      "cell_type": "code",
      "execution_count": null,
      "metadata": {
        "id": "O_Df0lMxU4ws"
      },
      "outputs": [],
      "source": [
        "def chiffre(n):\n",
        "    nbr=0\n",
        "    while (n != 0):\n",
        "        n=n//10\n",
        "        nbr=nbr+1\n",
        "    return nbr\n",
        "n=int(input(\"donner n: \"))\n",
        "print(chiffre(n))"
      ]
    },
    {
      "cell_type": "markdown",
      "metadata": {
        "id": "UZO3xwJnU_wV"
      },
      "source": [
        "Exercice7:Ecrire une fonction Python pour trouver la fréquence d’un caractère dans une chaîne.\n"
      ]
    },
    {
      "cell_type": "code",
      "execution_count": null,
      "metadata": {
        "id": "Z4EEfLwZVfA8"
      },
      "outputs": [],
      "source": [
        "def freq(text,lettre):\n",
        "    s=0\n",
        "    n=len(text)\n",
        "    for car in text:\n",
        "         if car==lettre:\n",
        "           s=s+1\n",
        "    return s/n\n",
        "text=input(\"donner une chaine: \")\n",
        "lettre=input(\"donner un caractere: \")\n",
        "print(freq(text,lettre))"
      ]
    },
    {
      "cell_type": "markdown",
      "metadata": {
        "id": "ObnChFsJVkCt"
      },
      "source": [
        "Exercice8:Ecrire une fonction qui cherche un élément dans une matrice puis renvoi sa position «i,j»."
      ]
    },
    {
      "cell_type": "code",
      "execution_count": null,
      "metadata": {
        "id": "iI_B_Wu7Vt92"
      },
      "outputs": [],
      "source": [
        "def cherche(mat,a):\n",
        "    for i, j in enumerate(mat):\n",
        "                if(i,j)== a:\n",
        "                 return i,j\n",
        "    #return -1\n",
        "mat=input(\"donner la matrice: \")\n",
        "a=input(\"donner lelement: \")\n",
        "print(cherche(mat,a))"
      ]
    },
    {
      "cell_type": "markdown",
      "metadata": {
        "id": "u9tuRCEEV5uq"
      },
      "source": [
        "Exercice9:Ecrire un programme python composé de plusieurs fonctions :\n",
        "• fonction qui envoi la valeur moyenne d’une liste\n",
        "• fonction qui renvoi le min ou max selon le choix de l ‘utilisateur\n",
        "• fonction qui renvoie le médian d ‘une liste\n",
        "• fonction qui renvoi le mode d’une liste\n",
        "• fonction qui calcul la variance"
      ]
    },
    {
      "cell_type": "code",
      "execution_count": null,
      "metadata": {
        "id": "jRi29F1XWIa-"
      },
      "outputs": [],
      "source": [
        "liste=[1,2,4,6,5,7,8,9]\n",
        "def sum(liste):\n",
        "    s=0\n",
        "    n=len(liste)\n",
        "    for i in range(n):\n",
        "        s=s+liste[i]\n",
        "    return s\n",
        "print(\"la somme est : \",sum(liste))\n",
        "def moy(liste):\n",
        "    return sum(liste)/len(liste)\n",
        "print(\"la moyenne est : \", moy(liste))\n",
        "def Min(liste):\n",
        "    minimum=liste[0]\n",
        "    for x in liste:\n",
        "        if x<minimum:\n",
        "            minimum=x\n",
        "    return minimum\n",
        "def Max(liste):\n",
        "    maximum=liste[0]\n",
        "    for x in liste:\n",
        "        if x>maximum:\n",
        "            maximum=x\n",
        "    return maximum\n",
        "print(\"l'element minimum est : \", Min(liste))\n",
        "print(\"l'element maximum est : \", Max(liste))\n",
        "def median(liste):\n",
        "    liste.sort()\n",
        "    if len(liste) % 2 == 0:\n",
        "        median1=liste[len(liste)//2]\n",
        "        median2=liste[len(liste)//2-1]\n",
        "        median=(median1+median2)/2\n",
        "    else:\n",
        "        median=liste[len(liste)//2]\n",
        "    return median\n",
        "print(\"le median est : \",median(liste))\n",
        "def variance(liste):\n",
        "    deviations=[(x-moy(liste))**2 for x in liste]\n",
        "    variance=sum(deviations)/len(liste)\n",
        "    return variance\n",
        "print(\"la variance est : \", variance(liste))\n"
      ]
    }
  ],
  "metadata": {
    "colab": {
      "provenance": []
    },
    "kernelspec": {
      "display_name": "Python 3",
      "name": "python3"
    },
    "language_info": {
      "name": "python"
    }
  },
  "nbformat": 4,
  "nbformat_minor": 0
}
